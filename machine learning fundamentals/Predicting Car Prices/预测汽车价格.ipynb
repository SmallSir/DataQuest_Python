{
 "cells": [
  {
   "cell_type": "code",
   "execution_count": 1,
   "metadata": {},
   "outputs": [],
   "source": [
    "import pandas as pd\n",
    "import numpy as np"
   ]
  },
  {
   "cell_type": "code",
   "execution_count": 2,
   "metadata": {},
   "outputs": [],
   "source": [
    "cols = ['symboling', 'normalized-losses', 'make', 'fuel-type', 'aspiration', 'num-of-doors', 'body-style', \n",
    "        'drive-wheels', 'engine-location', 'wheel-base', 'length', 'width', 'height', 'curb-weight', 'engine-type', \n",
    "        'num-of-cylinders', 'engine-size', 'fuel-system', 'bore', 'stroke', 'compression-rate', 'horsepower', 'peak-rpm', 'city-mpg', 'highway-mpg', 'price']\n",
    "cars = pd.read_csv('imports-85.data', names=cols)"
   ]
  },
  {
   "cell_type": "code",
   "execution_count": 3,
   "metadata": {},
   "outputs": [
    {
     "data": {
      "text/html": [
       "<div>\n",
       "<style scoped>\n",
       "    .dataframe tbody tr th:only-of-type {\n",
       "        vertical-align: middle;\n",
       "    }\n",
       "\n",
       "    .dataframe tbody tr th {\n",
       "        vertical-align: top;\n",
       "    }\n",
       "\n",
       "    .dataframe thead th {\n",
       "        text-align: right;\n",
       "    }\n",
       "</style>\n",
       "<table border=\"1\" class=\"dataframe\">\n",
       "  <thead>\n",
       "    <tr style=\"text-align: right;\">\n",
       "      <th></th>\n",
       "      <th>symboling</th>\n",
       "      <th>normalized-losses</th>\n",
       "      <th>make</th>\n",
       "      <th>fuel-type</th>\n",
       "      <th>aspiration</th>\n",
       "      <th>num-of-doors</th>\n",
       "      <th>body-style</th>\n",
       "      <th>drive-wheels</th>\n",
       "      <th>engine-location</th>\n",
       "      <th>wheel-base</th>\n",
       "      <th>...</th>\n",
       "      <th>engine-size</th>\n",
       "      <th>fuel-system</th>\n",
       "      <th>bore</th>\n",
       "      <th>stroke</th>\n",
       "      <th>compression-rate</th>\n",
       "      <th>horsepower</th>\n",
       "      <th>peak-rpm</th>\n",
       "      <th>city-mpg</th>\n",
       "      <th>highway-mpg</th>\n",
       "      <th>price</th>\n",
       "    </tr>\n",
       "  </thead>\n",
       "  <tbody>\n",
       "    <tr>\n",
       "      <th>0</th>\n",
       "      <td>3</td>\n",
       "      <td>?</td>\n",
       "      <td>alfa-romero</td>\n",
       "      <td>gas</td>\n",
       "      <td>std</td>\n",
       "      <td>two</td>\n",
       "      <td>convertible</td>\n",
       "      <td>rwd</td>\n",
       "      <td>front</td>\n",
       "      <td>88.6</td>\n",
       "      <td>...</td>\n",
       "      <td>130</td>\n",
       "      <td>mpfi</td>\n",
       "      <td>3.47</td>\n",
       "      <td>2.68</td>\n",
       "      <td>9.0</td>\n",
       "      <td>111</td>\n",
       "      <td>5000</td>\n",
       "      <td>21</td>\n",
       "      <td>27</td>\n",
       "      <td>13495</td>\n",
       "    </tr>\n",
       "    <tr>\n",
       "      <th>1</th>\n",
       "      <td>3</td>\n",
       "      <td>?</td>\n",
       "      <td>alfa-romero</td>\n",
       "      <td>gas</td>\n",
       "      <td>std</td>\n",
       "      <td>two</td>\n",
       "      <td>convertible</td>\n",
       "      <td>rwd</td>\n",
       "      <td>front</td>\n",
       "      <td>88.6</td>\n",
       "      <td>...</td>\n",
       "      <td>130</td>\n",
       "      <td>mpfi</td>\n",
       "      <td>3.47</td>\n",
       "      <td>2.68</td>\n",
       "      <td>9.0</td>\n",
       "      <td>111</td>\n",
       "      <td>5000</td>\n",
       "      <td>21</td>\n",
       "      <td>27</td>\n",
       "      <td>16500</td>\n",
       "    </tr>\n",
       "    <tr>\n",
       "      <th>2</th>\n",
       "      <td>1</td>\n",
       "      <td>?</td>\n",
       "      <td>alfa-romero</td>\n",
       "      <td>gas</td>\n",
       "      <td>std</td>\n",
       "      <td>two</td>\n",
       "      <td>hatchback</td>\n",
       "      <td>rwd</td>\n",
       "      <td>front</td>\n",
       "      <td>94.5</td>\n",
       "      <td>...</td>\n",
       "      <td>152</td>\n",
       "      <td>mpfi</td>\n",
       "      <td>2.68</td>\n",
       "      <td>3.47</td>\n",
       "      <td>9.0</td>\n",
       "      <td>154</td>\n",
       "      <td>5000</td>\n",
       "      <td>19</td>\n",
       "      <td>26</td>\n",
       "      <td>16500</td>\n",
       "    </tr>\n",
       "    <tr>\n",
       "      <th>3</th>\n",
       "      <td>2</td>\n",
       "      <td>164</td>\n",
       "      <td>audi</td>\n",
       "      <td>gas</td>\n",
       "      <td>std</td>\n",
       "      <td>four</td>\n",
       "      <td>sedan</td>\n",
       "      <td>fwd</td>\n",
       "      <td>front</td>\n",
       "      <td>99.8</td>\n",
       "      <td>...</td>\n",
       "      <td>109</td>\n",
       "      <td>mpfi</td>\n",
       "      <td>3.19</td>\n",
       "      <td>3.40</td>\n",
       "      <td>10.0</td>\n",
       "      <td>102</td>\n",
       "      <td>5500</td>\n",
       "      <td>24</td>\n",
       "      <td>30</td>\n",
       "      <td>13950</td>\n",
       "    </tr>\n",
       "    <tr>\n",
       "      <th>4</th>\n",
       "      <td>2</td>\n",
       "      <td>164</td>\n",
       "      <td>audi</td>\n",
       "      <td>gas</td>\n",
       "      <td>std</td>\n",
       "      <td>four</td>\n",
       "      <td>sedan</td>\n",
       "      <td>4wd</td>\n",
       "      <td>front</td>\n",
       "      <td>99.4</td>\n",
       "      <td>...</td>\n",
       "      <td>136</td>\n",
       "      <td>mpfi</td>\n",
       "      <td>3.19</td>\n",
       "      <td>3.40</td>\n",
       "      <td>8.0</td>\n",
       "      <td>115</td>\n",
       "      <td>5500</td>\n",
       "      <td>18</td>\n",
       "      <td>22</td>\n",
       "      <td>17450</td>\n",
       "    </tr>\n",
       "  </tbody>\n",
       "</table>\n",
       "<p>5 rows × 26 columns</p>\n",
       "</div>"
      ],
      "text/plain": [
       "   symboling normalized-losses         make fuel-type aspiration num-of-doors  \\\n",
       "0          3                 ?  alfa-romero       gas        std          two   \n",
       "1          3                 ?  alfa-romero       gas        std          two   \n",
       "2          1                 ?  alfa-romero       gas        std          two   \n",
       "3          2               164         audi       gas        std         four   \n",
       "4          2               164         audi       gas        std         four   \n",
       "\n",
       "    body-style drive-wheels engine-location  wheel-base  ...    engine-size  \\\n",
       "0  convertible          rwd           front        88.6  ...            130   \n",
       "1  convertible          rwd           front        88.6  ...            130   \n",
       "2    hatchback          rwd           front        94.5  ...            152   \n",
       "3        sedan          fwd           front        99.8  ...            109   \n",
       "4        sedan          4wd           front        99.4  ...            136   \n",
       "\n",
       "   fuel-system  bore  stroke compression-rate horsepower  peak-rpm city-mpg  \\\n",
       "0         mpfi  3.47    2.68              9.0        111      5000       21   \n",
       "1         mpfi  3.47    2.68              9.0        111      5000       21   \n",
       "2         mpfi  2.68    3.47              9.0        154      5000       19   \n",
       "3         mpfi  3.19    3.40             10.0        102      5500       24   \n",
       "4         mpfi  3.19    3.40              8.0        115      5500       18   \n",
       "\n",
       "  highway-mpg  price  \n",
       "0          27  13495  \n",
       "1          27  16500  \n",
       "2          26  16500  \n",
       "3          30  13950  \n",
       "4          22  17450  \n",
       "\n",
       "[5 rows x 26 columns]"
      ]
     },
     "execution_count": 3,
     "metadata": {},
     "output_type": "execute_result"
    }
   ],
   "source": [
    "cars.head()"
   ]
  },
  {
   "cell_type": "markdown",
   "metadata": {},
   "source": [
    "## 数据清洗"
   ]
  },
  {
   "cell_type": "code",
   "execution_count": 4,
   "metadata": {},
   "outputs": [],
   "source": [
    "continuous_values_cols = ['normalized-losses', 'wheel-base', 'length', 'width', 'height', 'curb-weight', 'bore', 'stroke', 'compression-rate', 'horsepower', 'peak-rpm', 'city-mpg', 'highway-mpg', 'price']\n",
    "numeric_cars = cars[continuous_values_cols]"
   ]
  },
  {
   "cell_type": "code",
   "execution_count": 5,
   "metadata": {},
   "outputs": [],
   "source": [
    "numeric_cars = numeric_cars.replace('?',np.nan)\n",
    "numeric_cars = numeric_cars.astype(float)"
   ]
  },
  {
   "cell_type": "code",
   "execution_count": 6,
   "metadata": {},
   "outputs": [
    {
     "data": {
      "text/plain": [
       "normalized-losses    41\n",
       "wheel-base            0\n",
       "length                0\n",
       "width                 0\n",
       "height                0\n",
       "curb-weight           0\n",
       "bore                  4\n",
       "stroke                4\n",
       "compression-rate      0\n",
       "horsepower            2\n",
       "peak-rpm              2\n",
       "city-mpg              0\n",
       "highway-mpg           0\n",
       "price                 4\n",
       "dtype: int64"
      ]
     },
     "execution_count": 6,
     "metadata": {},
     "output_type": "execute_result"
    }
   ],
   "source": [
    "numeric_cars.isnull().sum()"
   ]
  },
  {
   "cell_type": "code",
   "execution_count": 7,
   "metadata": {},
   "outputs": [],
   "source": [
    "numeric_cars = numeric_cars.dropna()"
   ]
  },
  {
   "cell_type": "code",
   "execution_count": 8,
   "metadata": {},
   "outputs": [
    {
     "data": {
      "text/plain": [
       "normalized-losses    0\n",
       "wheel-base           0\n",
       "length               0\n",
       "width                0\n",
       "height               0\n",
       "curb-weight          0\n",
       "bore                 0\n",
       "stroke               0\n",
       "compression-rate     0\n",
       "horsepower           0\n",
       "peak-rpm             0\n",
       "city-mpg             0\n",
       "highway-mpg          0\n",
       "price                0\n",
       "dtype: int64"
      ]
     },
     "execution_count": 8,
     "metadata": {},
     "output_type": "execute_result"
    }
   ],
   "source": [
    "numeric_cars.isnull().sum()"
   ]
  },
  {
   "cell_type": "markdown",
   "metadata": {},
   "source": [
    "### 标准化数据"
   ]
  },
  {
   "cell_type": "code",
   "execution_count": 9,
   "metadata": {},
   "outputs": [],
   "source": [
    "price_col = numeric_cars['price']\n",
    "numeric_cars = (numeric_cars - numeric_cars.min())/numeric_cars.std()\n",
    "numeric_cars['price'] = price_col"
   ]
  },
  {
   "cell_type": "markdown",
   "metadata": {},
   "source": [
    "## 一元线性回归"
   ]
  },
  {
   "cell_type": "code",
   "execution_count": 10,
   "metadata": {},
   "outputs": [
    {
     "data": {
      "text/plain": [
       "curb-weight          2390.860581\n",
       "width                2399.439853\n",
       "city-mpg             2722.061443\n",
       "horsepower           2918.443706\n",
       "length               3630.089319\n",
       "highway-mpg          3762.044795\n",
       "wheel-base           3934.588779\n",
       "bore                 4060.936349\n",
       "stroke               4978.056555\n",
       "normalized-losses    5218.093022\n",
       "height               5226.393339\n",
       "peak-rpm             5998.628981\n",
       "compression-rate     6301.123333\n",
       "dtype: float64"
      ]
     },
     "execution_count": 10,
     "metadata": {},
     "output_type": "execute_result"
    }
   ],
   "source": [
    "from sklearn.neighbors import KNeighborsRegressor\n",
    "from sklearn.metrics import mean_squared_error\n",
    "\n",
    "\n",
    "def knn_train_test(train_col, target_col, df):\n",
    "    knn = KNeighborsRegressor()\n",
    "    np.random.seed(1)\n",
    "    #随机顺序\n",
    "    shuffled_index = np.random.permutation(df.index)\n",
    "    rand_df = df.reindex(shuffled_index)\n",
    "\n",
    "    last_train_row = int(len(rand_df) / 2)\n",
    "    \n",
    "    #将前半部分当作练习数据，后半部分为测试数据\n",
    "    train_df = rand_df.iloc[0:last_train_row]\n",
    "    test_df = rand_df.iloc[last_train_row:]\n",
    "    #线性回归\n",
    "    knn.fit(train_df[[train_col]],train_df[target_col])\n",
    "    predict = knn.predict(test_df[[train_col]])\n",
    "    mse = mean_squared_error(test_df[target_col], predict)\n",
    "    rmse = np.sqrt(mse)\n",
    "    return rmse\n",
    "\n",
    "rmse_col = {}\n",
    "for col in numeric_cars.columns:\n",
    "    if col == 'price':\n",
    "        continue\n",
    "    rmse = knn_train_test(col,'price',numeric_cars)\n",
    "    rmse_col[col] = rmse\n",
    "rmse_results_series = pd.Series(rmse_col)\n",
    "rmse_results_series.sort_values()"
   ]
  },
  {
   "cell_type": "markdown",
   "metadata": {},
   "source": [
    "由此可以看出来，curb-weight 和 width这两个因素在k值默认的情况下表现的最好"
   ]
  },
  {
   "cell_type": "markdown",
   "metadata": {},
   "source": [
    "### 修改默认的K值"
   ]
  },
  {
   "cell_type": "code",
   "execution_count": 11,
   "metadata": {},
   "outputs": [
    {
     "data": {
      "text/plain": [
       "{'normalized-losses': {1: 4499.9591637036,\n",
       "  3: 4505.065183120736,\n",
       "  5: 5218.093022168156,\n",
       "  7: 5567.858758636254,\n",
       "  9: 5375.67607337285},\n",
       " 'wheel-base': {1: 4239.563761461785,\n",
       "  3: 4285.42843216664,\n",
       "  5: 3934.588778830642,\n",
       "  7: 4026.258534860972,\n",
       "  9: 4052.5122965556275},\n",
       " 'length': {1: 3722.7733630319212,\n",
       "  3: 3831.485265750955,\n",
       "  5: 3630.089318804704,\n",
       "  7: 3648.6663296962606,\n",
       "  9: 3524.435917961173},\n",
       " 'width': {1: 2967.403311398705,\n",
       "  3: 2260.849337392673,\n",
       "  5: 2399.4398531740694,\n",
       "  7: 2389.6194579527782,\n",
       "  9: 2558.992458311968},\n",
       " 'height': {1: 6279.226392438801,\n",
       "  3: 5188.521852769502,\n",
       "  5: 5226.393339340238,\n",
       "  7: 5391.5573114455565,\n",
       "  9: 5527.497385239288},\n",
       " 'curb-weight': {1: 2945.27863919528,\n",
       "  3: 2557.8881366166984,\n",
       "  5: 2390.8605812552096,\n",
       "  7: 2405.4334088025953,\n",
       "  9: 2390.3598570063996},\n",
       " 'bore': {1: 5219.654946689484,\n",
       "  3: 4290.706593421803,\n",
       "  5: 4060.936348553126,\n",
       "  7: 3985.666566470611,\n",
       "  9: 4082.1423382713406},\n",
       " 'stroke': {1: 7063.64661223224,\n",
       "  3: 4819.164974782111,\n",
       "  5: 4978.056555474235,\n",
       "  7: 5278.915547936423,\n",
       "  9: 5458.187307899691},\n",
       " 'compression-rate': {1: 7119.366827534594,\n",
       "  3: 6466.075156795916,\n",
       "  5: 6301.123333462058,\n",
       "  7: 5817.77259028272,\n",
       "  9: 5585.92699149577},\n",
       " 'horsepower': {1: 3540.9205229713925,\n",
       "  3: 2904.584566059127,\n",
       "  5: 2918.4437055560966,\n",
       "  7: 3003.4913312319904,\n",
       "  9: 3020.4538446182446},\n",
       " 'peak-rpm': {1: 6007.363005096329,\n",
       "  3: 5253.248906893502,\n",
       "  5: 5998.628981233962,\n",
       "  7: 6316.278132144122,\n",
       "  9: 6093.362283442857},\n",
       " 'city-mpg': {1: 4703.973632738602,\n",
       "  3: 2906.86074610089,\n",
       "  5: 2722.0614430060173,\n",
       "  7: 2756.288287391993,\n",
       "  9: 2803.188850787441},\n",
       " 'highway-mpg': {1: 3931.1648544038444,\n",
       "  3: 3545.2647272257555,\n",
       "  5: 3762.0447950549446,\n",
       "  7: 3625.504998779269,\n",
       "  9: 3572.608030336651}}"
      ]
     },
     "execution_count": 11,
     "metadata": {},
     "output_type": "execute_result"
    }
   ],
   "source": [
    "from sklearn.neighbors import KNeighborsRegressor\n",
    "from sklearn.metrics import mean_squared_error\n",
    "\n",
    "\n",
    "def knn_train_test(train_col, target_col, df):\n",
    "    np.random.seed(1)\n",
    "    #随机顺序\n",
    "    shuffled_index = np.random.permutation(df.index)\n",
    "    rand_df = df.reindex(shuffled_index)\n",
    "\n",
    "    last_train_row = int(len(rand_df) / 2)\n",
    "    \n",
    "    #将前半部分当作练习数据，后半部分为测试数据\n",
    "    train_df = rand_df.iloc[0:last_train_row]\n",
    "    test_df = rand_df.iloc[last_train_row:]\n",
    "    #线性回归\n",
    "    k_value = [1,3,5,7,9]\n",
    "    k_rmse = {}\n",
    "    for i in k_value:\n",
    "        knn = KNeighborsRegressor(n_neighbors=i)\n",
    "        knn.fit(train_df[[train_col]],train_df[target_col])\n",
    "        predict = knn.predict(test_df[[train_col]])\n",
    "        mse = mean_squared_error(test_df[target_col], predict)\n",
    "        rmse = np.sqrt(mse)\n",
    "        k_rmse[i] = rmse\n",
    "    return k_rmse\n",
    "\n",
    "rmse_col = {}\n",
    "for col in numeric_cars.columns:\n",
    "    if col == 'price':\n",
    "        continue\n",
    "    rmse = knn_train_test(col,'price',numeric_cars)\n",
    "    rmse_col[col] = rmse\n",
    "rmse_col"
   ]
  },
  {
   "cell_type": "markdown",
   "metadata": {},
   "source": [
    "### 单变量与k值可视化"
   ]
  },
  {
   "cell_type": "code",
   "execution_count": 12,
   "metadata": {},
   "outputs": [
    {
     "data": {
      "image/png": "[encoded data removed]",
      "text/plain": [
       "<Figure size 432x288 with 1 Axes>"
      ]
     },
     "metadata": {},
     "output_type": "display_data"
    }
   ],
   "source": [
    "import matplotlib.pyplot as plt\n",
    "%matplotlib inline\n",
    "\n",
    "for _,v in rmse_col.items():\n",
    "    x = list(v.keys())\n",
    "    y = list(v.values())\n",
    "    \n",
    "    plt.plot(x,y)\n",
    "    plt.xlabel('k value')\n",
    "    plt.ylabel('RMSE')"
   ]
  },
  {
   "cell_type": "code",
   "execution_count": 13,
   "metadata": {},
   "outputs": [
    {
     "data": {
      "image/png": "[encoded data removed]",
      "text/plain": [
       "<Figure size 432x288 with 1 Axes>"
      ]
     },
     "metadata": {},
     "output_type": "display_data"
    }
   ],
   "source": [
    "for _,v in rmse_col.items():\n",
    "    x = list(v.keys())\n",
    "    y = list(v.values())\n",
    "    plt.scatter(x,y)\n"
   ]
  },
  {
   "cell_type": "markdown",
   "metadata": {},
   "source": [
    "## 多变量模型"
   ]
  },
  {
   "cell_type": "code",
   "execution_count": 14,
   "metadata": {},
   "outputs": [
    {
     "data": {
      "text/plain": [
       "width                2515.260884\n",
       "curb-weight          2537.964125\n",
       "horsepower           3077.578794\n",
       "city-mpg             3178.474592\n",
       "length               3671.490039\n",
       "highway-mpg          3687.317481\n",
       "wheel-base           4107.670361\n",
       "bore                 4327.821359\n",
       "normalized-losses    5033.330440\n",
       "stroke               5519.594200\n",
       "height               5522.639256\n",
       "peak-rpm             5933.776262\n",
       "compression-rate     6258.052980\n",
       "dtype: float64"
      ]
     },
     "execution_count": 14,
     "metadata": {},
     "output_type": "execute_result"
    }
   ],
   "source": [
    "feature_avg_rmse = {}\n",
    "for X,k in rmse_col.items():\n",
    "    avg_rmse = np.mean(list(k.values()))\n",
    "    feature_avg_rmse[X] = avg_rmse\n",
    "series_avg_rmse = pd.Series(feature_avg_rmse)\n",
    "series_avg_rmse = series_avg_rmse.sort_values()\n",
    "series_avg_rmse"
   ]
  },
  {
   "cell_type": "code",
   "execution_count": 15,
   "metadata": {},
   "outputs": [
    {
     "data": {
      "text/plain": [
       "{'two best features': {5: 2053.118572440472},\n",
       " 'three best features': {5: 1833.5905044474896},\n",
       " 'four best features': {5: 1705.77226146986},\n",
       " 'five best features': {5: 1809.3550520834765},\n",
       " 'six best features': {5: 1916.991993332262}}"
      ]
     },
     "execution_count": 15,
     "metadata": {},
     "output_type": "execute_result"
    }
   ],
   "source": [
    "def knn_train_test(train_cols, target_col, df):\n",
    "    np.random.seed(1)\n",
    "    #随机顺序\n",
    "    shuffled_index = np.random.permutation(df.index)\n",
    "    rand_df = df.reindex(shuffled_index)\n",
    "\n",
    "    last_train_row = int(len(rand_df) / 2)\n",
    "    \n",
    "    #将前半部分当作练习数据，后半部分为测试数据\n",
    "    train_df = rand_df.iloc[0:last_train_row]\n",
    "    test_df = rand_df.iloc[last_train_row:]\n",
    "    #线性回归\n",
    "    k_value = [5]\n",
    "    k_rmse = {}\n",
    "    for i in k_value:\n",
    "        knn = KNeighborsRegressor(n_neighbors=i)\n",
    "        knn.fit(train_df[train_cols], train_df[target_col])\n",
    "        predict = knn.predict(test_df[train_cols])\n",
    "        mse = mean_squared_error(test_df[target_col], predict)\n",
    "        rmse = np.sqrt(mse)\n",
    "        k_rmse[i] = rmse\n",
    "    return k_rmse\n",
    "k_rmse_results = {}\n",
    "\n",
    "two_best_features = ['horsepower', 'width']\n",
    "rmse_val = knn_train_test(two_best_features, 'price', numeric_cars)\n",
    "k_rmse_results[\"two best features\"] = rmse_val\n",
    "\n",
    "three_best_features = ['horsepower', 'width', 'curb-weight']\n",
    "rmse_val = knn_train_test(three_best_features, 'price', numeric_cars)\n",
    "k_rmse_results[\"three best features\"] = rmse_val\n",
    "\n",
    "four_best_features = ['horsepower', 'width', 'curb-weight', 'city-mpg']\n",
    "rmse_val = knn_train_test(four_best_features, 'price', numeric_cars)\n",
    "k_rmse_results[\"four best features\"] = rmse_val\n",
    "\n",
    "five_best_features = ['horsepower', 'width', 'curb-weight' , 'city-mpg' , 'highway-mpg']\n",
    "rmse_val = knn_train_test(five_best_features, 'price', numeric_cars)\n",
    "k_rmse_results[\"five best features\"] = rmse_val\n",
    "\n",
    "six_best_features = ['horsepower', 'width', 'curb-weight' , 'city-mpg' , 'highway-mpg', 'length']\n",
    "rmse_val = knn_train_test(six_best_features, 'price', numeric_cars)\n",
    "k_rmse_results[\"six best features\"] = rmse_val\n",
    "\n",
    "k_rmse_results"
   ]
  },
  {
   "cell_type": "markdown",
   "metadata": {},
   "source": [
    "## 多元模型最优解"
   ]
  },
  {
   "cell_type": "code",
   "execution_count": 16,
   "metadata": {},
   "outputs": [
    {
     "data": {
      "text/plain": [
       "{'two best features': {1: 2465.1697887772357,\n",
       "  2: 2072.4008186460937,\n",
       "  3: 2045.4817688424082,\n",
       "  4: 2020.6616105947205,\n",
       "  5: 2053.118572440472,\n",
       "  6: 2048.1327058818183,\n",
       "  7: 2020.6081110696375,\n",
       "  8: 2100.4535145062273,\n",
       "  9: 2267.9248147321327,\n",
       "  10: 2241.651448569781,\n",
       "  11: 2302.2650002338246,\n",
       "  12: 2307.4932564116884,\n",
       "  13: 2326.4670943725437,\n",
       "  14: 2336.411000283319,\n",
       "  15: 2384.712372069219,\n",
       "  16: 2401.3864850714044,\n",
       "  17: 2471.645099149657,\n",
       "  18: 2492.045624989503,\n",
       "  19: 2543.590394926169,\n",
       "  20: 2582.0990341132833,\n",
       "  21: 2625.7611069531786,\n",
       "  22: 2642.8318520124135,\n",
       "  23: 2649.112184339763,\n",
       "  24: 2668.429046725593,\n",
       "  25: 2741.758427998353},\n",
       " 'three best features': {1: 1918.6438863165827,\n",
       "  2: 1734.8789529099718,\n",
       "  3: 1845.3396186971474,\n",
       "  4: 1820.846987839725,\n",
       "  5: 1833.5905044474896,\n",
       "  6: 1965.3875681543211,\n",
       "  7: 2051.2038563875567,\n",
       "  8: 2146.5999822939475,\n",
       "  9: 2142.8897581505257,\n",
       "  10: 2144.5292534435152,\n",
       "  11: 2178.7674441343743,\n",
       "  12: 2242.6830455107847,\n",
       "  13: 2330.1538021589854,\n",
       "  14: 2381.125364339629,\n",
       "  15: 2415.4859866310776,\n",
       "  16: 2394.043632121186,\n",
       "  17: 2411.714273683612,\n",
       "  18: 2447.045973458434,\n",
       "  19: 2493.753192216731,\n",
       "  20: 2508.569109304396,\n",
       "  21: 2518.173201878668,\n",
       "  22: 2549.0130990861967,\n",
       "  23: 2550.9344112706844,\n",
       "  24: 2577.7091083953483,\n",
       "  25: 2621.0096612565167},\n",
       " 'four best features': {1: 2144.929028546166,\n",
       "  2: 1841.0865541847836,\n",
       "  3: 1754.3442360640374,\n",
       "  4: 1623.2002182224778,\n",
       "  5: 1705.77226146986,\n",
       "  6: 1870.637089002033,\n",
       "  7: 1964.406322985577,\n",
       "  8: 2058.6030876448567,\n",
       "  9: 2136.5568329226917,\n",
       "  10: 2193.509233910357,\n",
       "  11: 2198.689378789288,\n",
       "  12: 2278.61042044863,\n",
       "  13: 2312.984907835704,\n",
       "  14: 2306.1635779947155,\n",
       "  15: 2327.664201332887,\n",
       "  16: 2334.0652187567844,\n",
       "  17: 2391.4237206299713,\n",
       "  18: 2427.5380226850803,\n",
       "  19: 2445.976984971666,\n",
       "  20: 2432.08245837672,\n",
       "  21: 2424.0601025749534,\n",
       "  22: 2459.061742517336,\n",
       "  23: 2496.4383141405824,\n",
       "  24: 2494.5083295220097,\n",
       "  25: 2559.993452565846},\n",
       " 'five best features': {1: 2188.314419821795,\n",
       "  2: 1989.0272873945194,\n",
       "  3: 1831.5339995934191,\n",
       "  4: 1759.406672672282,\n",
       "  5: 1809.3550520834765,\n",
       "  6: 1940.7540798009131,\n",
       "  7: 1986.388926249472,\n",
       "  8: 2077.938424566297,\n",
       "  9: 2079.4683285207752,\n",
       "  10: 2176.133055933162,\n",
       "  11: 2236.507810993819,\n",
       "  12: 2276.7798900629673,\n",
       "  13: 2325.6174416509784,\n",
       "  14: 2345.1631890533367,\n",
       "  15: 2312.526829646163,\n",
       "  16: 2325.4915848757923,\n",
       "  17: 2366.1633173692103,\n",
       "  18: 2402.1755128630307,\n",
       "  19: 2421.9603951435797,\n",
       "  20: 2425.848976705114,\n",
       "  21: 2441.8964324283597,\n",
       "  22: 2478.0703578803755,\n",
       "  23: 2504.8946138818023,\n",
       "  24: 2530.5976046744086,\n",
       "  25: 2523.2077800965976},\n",
       " 'six best features': {1: 2308.4248390406824,\n",
       "  2: 2392.3376649471957,\n",
       "  3: 2121.217010481378,\n",
       "  4: 1923.7351873617508,\n",
       "  5: 1916.991993332262,\n",
       "  6: 1905.4537592059858,\n",
       "  7: 1942.8982412276011,\n",
       "  8: 2105.769510058541,\n",
       "  9: 2184.916558390647,\n",
       "  10: 2160.258910553316,\n",
       "  11: 2201.9296775219836,\n",
       "  12: 2215.0793562369463,\n",
       "  13: 2221.8683409257815,\n",
       "  14: 2279.8782145296127,\n",
       "  15: 2324.053852036709,\n",
       "  16: 2301.4448156754943,\n",
       "  17: 2343.4671319867966,\n",
       "  18: 2367.6013200874067,\n",
       "  19: 2392.117223104257,\n",
       "  20: 2450.784018361522,\n",
       "  21: 2479.55497602661,\n",
       "  22: 2486.8608874862057,\n",
       "  23: 2518.3224525981427,\n",
       "  24: 2530.3506737528414,\n",
       "  25: 2544.8833457272654}}"
      ]
     },
     "execution_count": 16,
     "metadata": {},
     "output_type": "execute_result"
    }
   ],
   "source": [
    "def knn_train_test(train_cols, target_col, df):\n",
    "    np.random.seed(1)\n",
    "    #随机顺序\n",
    "    shuffled_index = np.random.permutation(df.index)\n",
    "    rand_df = df.reindex(shuffled_index)\n",
    "\n",
    "    last_train_row = int(len(rand_df) / 2)\n",
    "    \n",
    "    #将前半部分当作练习数据，后半部分为测试数据\n",
    "    train_df = rand_df.iloc[0:last_train_row]\n",
    "    test_df = rand_df.iloc[last_train_row:]\n",
    "    #线性回归\n",
    "    k_value = [x for x in range(1,26)]\n",
    "    k_rmse = {}\n",
    "    for i in k_value:\n",
    "        knn = KNeighborsRegressor(n_neighbors=i)\n",
    "        knn.fit(train_df[train_cols], train_df[target_col])\n",
    "        predict = knn.predict(test_df[train_cols])\n",
    "        mse = mean_squared_error(test_df[target_col], predict)\n",
    "        rmse = np.sqrt(mse)\n",
    "        k_rmse[i] = rmse\n",
    "    return k_rmse\n",
    "k_rmse_results = {}\n",
    "\n",
    "two_best_features = ['horsepower', 'width']\n",
    "rmse_val = knn_train_test(two_best_features, 'price', numeric_cars)\n",
    "k_rmse_results[\"two best features\"] = rmse_val\n",
    "\n",
    "three_best_features = ['horsepower', 'width', 'curb-weight']\n",
    "rmse_val = knn_train_test(three_best_features, 'price', numeric_cars)\n",
    "k_rmse_results[\"three best features\"] = rmse_val\n",
    "\n",
    "four_best_features = ['horsepower', 'width', 'curb-weight', 'city-mpg']\n",
    "rmse_val = knn_train_test(four_best_features, 'price', numeric_cars)\n",
    "k_rmse_results[\"four best features\"] = rmse_val\n",
    "\n",
    "five_best_features = ['horsepower', 'width', 'curb-weight' , 'city-mpg' , 'highway-mpg']\n",
    "rmse_val = knn_train_test(five_best_features, 'price', numeric_cars)\n",
    "k_rmse_results[\"five best features\"] = rmse_val\n",
    "\n",
    "six_best_features = ['horsepower', 'width', 'curb-weight' , 'city-mpg' , 'highway-mpg', 'length']\n",
    "rmse_val = knn_train_test(six_best_features, 'price', numeric_cars)\n",
    "k_rmse_results[\"six best features\"] = rmse_val\n",
    "\n",
    "k_rmse_results"
   ]
  },
  {
   "cell_type": "code",
   "execution_count": 27,
   "metadata": {},
   "outputs": [
    {
     "data": {
      "image/png": "[encoded data removed]",
      "text/plain": [
       "<Figure size 432x288 with 1 Axes>"
      ]
     },
     "metadata": {},
     "output_type": "display_data"
    }
   ],
   "source": [
    "for _,k in k_rmse_results.items():\n",
    "    x = list(k.keys())\n",
    "    y = list(k.values())\n",
    "    plt.plot(x,y)"
   ]
  },
  {
   "cell_type": "code",
   "execution_count": null,
   "metadata": {},
   "outputs": [],
   "source": []
  }
 ],
 "metadata": {
  "kernelspec": {
   "display_name": "Python 3",
   "language": "python",
   "name": "python3"
  },
  "language_info": {
   "codemirror_mode": {
    "name": "ipython",
    "version": 3
   },
   "file_extension": ".py",
   "mimetype": "text/x-python",
   "name": "python",
   "nbconvert_exporter": "python",
   "pygments_lexer": "ipython3",
   "version": "3.6.5"
  }
 },
 "nbformat": 4,
 "nbformat_minor": 2
}
