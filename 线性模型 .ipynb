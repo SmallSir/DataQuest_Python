{
 "cells": [
  {
   "cell_type": "code",
   "execution_count": 1,
   "metadata": {},
   "outputs": [
    {
     "name": "stderr",
     "output_type": "stream",
     "text": [
      "E:\\python 3.5\\lib\\site-packages\\sklearn\\cross_validation.py:41: DeprecationWarning: This module was deprecated in version 0.18 in favor of the model_selection module into which all the refactored classes and functions are moved. Also note that the interface of the new CV iterators are different from that of this module. This module will be removed in 0.20.\n",
      "  \"This module will be removed in 0.20.\", DeprecationWarning)\n"
     ]
    }
   ],
   "source": [
    "import matplotlib.pyplot as plt\n",
    "import numpy as np\n",
    "from sklearn import datasets,linear_model,discriminant_analysis,cross_validation"
   ]
  },
  {
   "cell_type": "code",
   "execution_count": 3,
   "metadata": {},
   "outputs": [],
   "source": [
    "#加载数据\n",
    "def load_data():\n",
    "    diabetes = datasets.load_diabetes()\n",
    "    return cross_validation.train_test_split(diabetes.data,diabetes.target,test_size = 0.25 ,random_state = 0)\n"
   ]
  },
  {
   "cell_type": "markdown",
   "metadata": {},
   "source": [
    "## 库实现线性回归模型"
   ]
  },
  {
   "cell_type": "code",
   "execution_count": 7,
   "metadata": {},
   "outputs": [],
   "source": [
    "def test_LinearRegression(*data):\n",
    "    x_train,x_test,y_train,y_test = data\n",
    "    regr = linear_model.LinearRegression()\n",
    "    regr.fit(x_train,y_train)\n",
    "    print('Coefficients:%s.intercept %.2f'%(regr.coef_,regr.intercept_))\n",
    "    print('Residual sum of squares: %.2f'% np.mean((regr.predict(x_test) - y_test) ** 2))\n",
    "    print('Score: %.2f'%regr.score(x_test,y_test))"
   ]
  },
  {
   "cell_type": "code",
   "execution_count": 8,
   "metadata": {},
   "outputs": [
    {
     "name": "stdout",
     "output_type": "stream",
     "text": [
      "Coefficients:[ -43.26774487 -208.67053951  593.39797213  302.89814903 -560.27689824\n",
      "  261.47657106   -8.83343952  135.93715156  703.22658427   28.34844354].intercept 153.07\n",
      "Residual sum of squares: 3180.20\n",
      "Score: 0.36\n"
     ]
    }
   ],
   "source": [
    "x_train,x_test,y_train,y_test = load_data()\n",
    "test_LinearRegression(x_train,x_test,y_train,y_test)"
   ]
  },
  {
   "cell_type": "markdown",
   "metadata": {},
   "source": [
    "#### LinearRegression()参数\n",
    "#### fit_intercept是否需要计算b值\n",
    "#### cops_x是否复制x\n",
    "#### normalize是否需要正则化\n"
   ]
  },
  {
   "cell_type": "markdown",
   "metadata": {},
   "source": [
    "### 多元线性回归的正则化"
   ]
  },
  {
   "cell_type": "markdown",
   "metadata": {},
   "source": [
    "#### 岭回归"
   ]
  },
  {
   "cell_type": "code",
   "execution_count": 9,
   "metadata": {},
   "outputs": [],
   "source": [
    "def test_Ridge(*data):\n",
    "    x_train,x_test,y_train,y_test = data\n",
    "    regr = linear_model.Ridge()\n",
    "    regr.fit(x_train,y_train)\n",
    "    print('Coefficients:%s.intercept %.2f'%(regr.coef_,regr.intercept_))\n",
    "    print('Residual sum of squares: %.2f'% np.mean((regr.predict(x_test) - y_test) ** 2))\n",
    "    print('Score: %.2f'%regr.score(x_test,y_test))"
   ]
  },
  {
   "cell_type": "code",
   "execution_count": 13,
   "metadata": {},
   "outputs": [
    {
     "name": "stdout",
     "output_type": "stream",
     "text": [
      "Coefficients:[  21.19927911  -60.47711393  302.87575204  179.41206395    8.90911449\n",
      "  -28.8080548  -149.30722541  112.67185758  250.53760873   99.57749017].intercept 152.45\n",
      "Residual sum of squares: 3192.33\n",
      "Score: 0.36\n"
     ]
    }
   ],
   "source": [
    "x_train,x_test,y_train,y_test = load_data()\n",
    "test_Ridge(x_train,x_test,y_train,y_test)"
   ]
  },
  {
   "cell_type": "markdown",
   "metadata": {},
   "source": [
    "#### Ridge参数\n",
    "#### alpha值越大正则化项占比越大\n",
    "#### fit_intercept是否需要计算b值\n",
    "#### max_iter迭代次数\n",
    "#### normalize是否在回归前要归一化\n",
    "#### solver求解最优化问题的算法\n",
    "#### tol判断迭代收敛与否的阀值\n",
    "#### random_state随机"
   ]
  },
  {
   "cell_type": "code",
   "execution_count": 12,
   "metadata": {},
   "outputs": [],
   "source": [
    "def test_Ridge_alpha(*data):\n",
    "    x_train,x_test,y_train,y_test = data\n",
    "    alphas = [0.01,0.02,0.05,0.1,0.2,0.5,1,2,5,10,20,50,100,200,500,1000]\n",
    "    scores = []\n",
    "    for i,alpha in enumerate(alphas):\n",
    "        regr = linear_model.Ridge(alpha= alpha)\n",
    "        regr.fit(x_train,y_train)\n",
    "        scores.append(regr.score(x_test,y_test))\n",
    "    fig = plt.figure()\n",
    "    ax = fig.add_subplot(1,1,1)\n",
    "    ax.plot(alphas,scores)\n",
    "    ax.set_xlabel(r'$\\alpha$')\n",
    "    ax.set_ylabel(r'score')\n",
    "    ax.set_xscale('log')\n",
    "    ax.set_title('Ridge')\n",
    "    plt.show()"
   ]
  },
  {
   "cell_type": "code",
   "execution_count": 14,
   "metadata": {},
   "outputs": [
    {
     "data": {
      "image/png": "[encoded data removed]",
      "text/plain": [
       "<Figure size 432x288 with 1 Axes>"
      ]
     },
     "metadata": {},
     "output_type": "display_data"
    }
   ],
   "source": [
    "x_train,x_test,y_train,y_test = load_data()\n",
    "test_Ridge_alpha(x_train,x_test,y_train,y_test)"
   ]
  },
  {
   "cell_type": "markdown",
   "metadata": {},
   "source": [
    "#### Lasso回归"
   ]
  },
  {
   "cell_type": "code",
   "execution_count": 15,
   "metadata": {},
   "outputs": [],
   "source": [
    "def test_Lasso(*data):\n",
    "    x_train,x_test,y_train,y_test = data\n",
    "    regr = linear_model.Lasso()\n",
    "    regr.fit(x_train,y_train)\n",
    "    print('Coefficients:%s.intercept %.2f'%(regr.coef_,regr.intercept_))\n",
    "    print('Residual sum of squares: %.2f'% np.mean((regr.predict(x_test) - y_test) ** 2))\n",
    "    print('Score: %.2f'%regr.score(x_test,y_test))"
   ]
  },
  {
   "cell_type": "code",
   "execution_count": 16,
   "metadata": {},
   "outputs": [
    {
     "name": "stdout",
     "output_type": "stream",
     "text": [
      "Coefficients:[  0.          -0.         442.67992538   0.           0.\n",
      "   0.          -0.           0.         330.76014648   0.        ].intercept 152.52\n",
      "Residual sum of squares: 3583.42\n",
      "Score: 0.28\n"
     ]
    }
   ],
   "source": [
    "x_train,x_test,y_train,y_test = load_data()\n",
    "test_Lasso(x_train,x_test,y_train,y_test)"
   ]
  },
  {
   "cell_type": "markdown",
   "metadata": {},
   "source": [
    "#### Lasso参数\n",
    "#### alpha值越大正则化项占比越大\n",
    "#### fit_intercept是否需要计算b值\n",
    "#### max_iter迭代次数\n",
    "#### normalize是否在回归前要归一化\n",
    "#### solver求解最优化问题的算法\n",
    "#### tol判断迭代收敛与否的阀值\n",
    "#### random_state随机"
   ]
  },
  {
   "cell_type": "code",
   "execution_count": 17,
   "metadata": {},
   "outputs": [],
   "source": [
    "def test_Lasso_alpha(*data):\n",
    "    x_train,x_test,y_train,y_test = data\n",
    "    alphas = [0.01,0.02,0.05,0.1,0.2,0.5,1,2,5,10,20,50,100,200,500,1000]\n",
    "    scores = []\n",
    "    for i,alpha in enumerate(alphas):\n",
    "        regr = linear_model.Ridge(alpha= alpha)\n",
    "        regr.fit(x_train,y_train)\n",
    "        scores.append(regr.score(x_test,y_test))\n",
    "    fig = plt.figure()\n",
    "    ax = fig.add_subplot(1,1,1)\n",
    "    ax.plot(alphas,scores)\n",
    "    ax.set_xlabel(r'$\\alpha$')\n",
    "    ax.set_ylabel(r'score')\n",
    "    ax.set_xscale('log')\n",
    "    ax.set_title('Ridge')\n",
    "    plt.show()"
   ]
  },
  {
   "cell_type": "code",
   "execution_count": 18,
   "metadata": {},
   "outputs": [
    {
     "data": {
      "image/png": "[encoded data removed]",
      "text/plain": [
       "<Figure size 432x288 with 1 Axes>"
      ]
     },
     "metadata": {},
     "output_type": "display_data"
    }
   ],
   "source": [
    "x_train,x_test,y_train,y_test = load_data()\n",
    "test_Lasso_alpha(x_train,x_test,y_train,y_test)"
   ]
  },
  {
   "cell_type": "markdown",
   "metadata": {},
   "source": [
    "#### ElasticNet回归"
   ]
  },
  {
   "cell_type": "code",
   "execution_count": 19,
   "metadata": {},
   "outputs": [],
   "source": [
    "def test_ElasticNet(*data):\n",
    "    x_train,x_test,y_train,y_test = data\n",
    "    regr = linear_model.ElasticNet()\n",
    "    regr.fit(x_train,y_train)\n",
    "    print('Coefficients:%s.intercept %.2f'%(regr.coef_,regr.intercept_))\n",
    "    print('Residual sum of squares: %.2f'% np.mean((regr.predict(x_test) - y_test) ** 2))\n",
    "    print('Score: %.2f'%regr.score(x_test,y_test))"
   ]
  },
  {
   "cell_type": "code",
   "execution_count": 20,
   "metadata": {},
   "outputs": [
    {
     "name": "stdout",
     "output_type": "stream",
     "text": [
      "Coefficients:[ 0.40560736  0.          3.76542456  2.38531508  0.58677945  0.22891647\n",
      " -2.15858149  2.33867566  3.49846121  1.98299707].intercept 151.93\n",
      "Residual sum of squares: 4922.36\n",
      "Score: 0.01\n"
     ]
    }
   ],
   "source": [
    "x_train,x_test,y_train,y_test = load_data()\n",
    "test_ElasticNet(x_train,x_test,y_train,y_test)"
   ]
  },
  {
   "cell_type": "markdown",
   "metadata": {},
   "source": [
    "#### Lasso参数\n",
    "#### l1_ratio p值\n",
    "#### alpha值越大正则化项占比越大\n",
    "#### fit_intercept是否需要计算b值\n",
    "#### max_iter迭代次数\n",
    "#### normalize是否在回归前要归一化\n",
    "#### solver求解最优化问题的算法\n",
    "#### tol判断迭代收敛与否的阀值\n",
    "#### random_state随机"
   ]
  },
  {
   "cell_type": "code",
   "execution_count": 34,
   "metadata": {},
   "outputs": [],
   "source": [
    "def test_ElasticNet_alpha_rho(*data):\n",
    "    x_train,x_test,y_train,y_test = data\n",
    "    alphas = np.logspace(-2,2)\n",
    "    rhos = np.linspace(0.01,1)\n",
    "    scores = []\n",
    "    for alpha in alphas:\n",
    "        for rho in rhos:\n",
    "            regr = linear_model.ElasticNet(alpha= alpha,l1_ratio=rho)\n",
    "            regr.fit(x_train,y_train)\n",
    "            scores.append(regr.score(x_test,y_test))\n",
    "    alphas,rhos = np.meshgrid(alphas,rhos)\n",
    "    scores = np.array(scores).reshape(alphas.shape)\n",
    "    from mpl_toolkits.mplot3d import Axes3D\n",
    "    from matplotlib import cm\n",
    "    fig = plt.figure()\n",
    "    ax = Axes3D(fig)\n",
    "    surf = ax.plot_surface(alphas,rhos,scores,rstride = 1,cstride = 1,cmap = cm.jet,linewidth = 0,antialiased = False)\n",
    "    fig.colorbar(surf,shrink = 0.5,aspect = 5)\n",
    "    ax.set_xlabel(r'$\\alpha$')\n",
    "    ax.set_ylabel(r'$\\rho$')\n",
    "    ax.set_zlabel('score')\n",
    "    ax.set_title('Ridge')\n",
    "    plt.show()"
   ]
  },
  {
   "cell_type": "code",
   "execution_count": 35,
   "metadata": {},
   "outputs": [
    {
     "data": {
      "image/png": "[encoded data removed]",
      "text/plain": [
       "<Figure size 432x288 with 2 Axes>"
      ]
     },
     "metadata": {},
     "output_type": "display_data"
    }
   ],
   "source": [
    "x_train,x_test,y_train,y_test = load_data()\n",
    "test_ElasticNet_alpha_rho(x_train,x_test,y_train,y_test)"
   ]
  },
  {
   "cell_type": "markdown",
   "metadata": {},
   "source": [
    "## 代码实现多元线性回归"
   ]
  },
  {
   "cell_type": "markdown",
   "metadata": {},
   "source": [
    "# 参数 = ((x_b.T * x_b) ^ -1) * x_b.T * y"
   ]
  },
  {
   "cell_type": "code",
   "execution_count": 2,
   "metadata": {},
   "outputs": [],
   "source": [
    "def fit(x_train,y_train):\n",
    "    x_b = np.hstack([np.ones((len(x_train),1)),x_train])\n",
    "    _theta = np.linalg.inv(x_b.T.dot(x_b)).dot(x_b.T.dot(y_train))\n",
    "    _coef = _theta[1:]#系数\n",
    "    _interception = _theta[0]#参数b\n",
    "def predict(x_test):\n",
    "    x_b = np.hstack([np.ones((len(x_test),1)),x_test])\n",
    "    return x_b.dot(x_test)"
   ]
  },
  {
   "cell_type": "code",
   "execution_count": 4,
   "metadata": {},
   "outputs": [],
   "source": [
    "def fit_gd(self, X_train, y_train, eta=0.01, n_iters=1e4):\n",
    "        \"\"\"根据训练数据集X_train, y_train, 使用梯度下降法训练Linear Regression模型\"\"\"\n",
    "        assert X_train.shape[0] == y_train.shape[0], \\\n",
    "            \"the size of X_train must be equal to the size of y_train\"\n",
    "\n",
    "        def J(theta, X_b, y):#每一行的误差和\n",
    "            try:\n",
    "                return np.sum((y - X_b.dot(theta)) ** 2) / len(y)\n",
    "            except:\n",
    "                return float('inf')\n",
    "\n",
    "        def dJ(theta, X_b, y):#返回的是每个参数误差\n",
    "            return X_b.T.dot(X_b.dot(theta) - y) * 2. / len(X_b)\n",
    "\n",
    "        def gradient_descent(X_b, y, initial_theta, eta, n_iters=1e4, epsilon=1e-8):\n",
    "\n",
    "            theta = initial_theta\n",
    "            cur_iter = 0\n",
    "\n",
    "            while cur_iter < n_iters:\n",
    "                gradient = dJ(theta, X_b, y)\n",
    "                last_theta = theta\n",
    "                theta = theta - eta * gradient\n",
    "                if (abs(J(theta, X_b, y) - J(last_theta, X_b, y)) < epsilon):\n",
    "                    break\n",
    "\n",
    "                cur_iter += 1\n",
    "\n",
    "            return theta\n",
    "\n",
    "        X_b = np.hstack([np.ones((len(X_train), 1)), X_train])\n",
    "        initial_theta = np.zeros(X_b.shape[1])\n",
    "        self._theta = gradient_descent(X_b, y_train, initial_theta, eta, n_iters)\n",
    "\n",
    "        self.intercept_ = self._theta[0]\n",
    "        self.coef_ = self._theta[1:]\n",
    "\n",
    "        return self"
   ]
  },
  {
   "cell_type": "code",
   "execution_count": null,
   "metadata": {},
   "outputs": [],
   "source": []
  }
 ],
 "metadata": {
  "kernelspec": {
   "display_name": "Python 3",
   "language": "python",
   "name": "python3"
  },
  "language_info": {
   "codemirror_mode": {
    "name": "ipython",
    "version": 3
   },
   "file_extension": ".py",
   "mimetype": "text/x-python",
   "name": "python",
   "nbconvert_exporter": "python",
   "pygments_lexer": "ipython3",
   "version": "3.6.5"
  }
 },
 "nbformat": 4,
 "nbformat_minor": 2
}
